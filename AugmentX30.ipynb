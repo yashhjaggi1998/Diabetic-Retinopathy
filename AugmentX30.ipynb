{
 "cells": [
  {
   "cell_type": "code",
   "execution_count": 1,
   "metadata": {},
   "outputs": [],
   "source": [
    "import os\n",
    "import imutils\n",
    "import cv2\n",
    "import numpy as np\n",
    "from tqdm import tqdm"
   ]
  },
  {
   "cell_type": "code",
   "execution_count": 2,
   "metadata": {},
   "outputs": [
    {
     "name": "stderr",
     "output_type": "stream",
     "text": [
      "100%|██████████████████████████████████████████████████████████████████████████████| 5256/5256 [48:57<00:00,  1.57it/s]\n"
     ]
    },
    {
     "name": "stdout",
     "output_type": "stream",
     "text": [
      "HELLO\n"
     ]
    }
   ],
   "source": [
    "\"\"\"\n",
    "    1/ contains 5256 images\n",
    "    + x4 by flipping vertically, horizontally = 15,768;\n",
    "    hence >15k work done!!\n",
    "\"\"\"\n",
    "\n",
    "\n",
    "PATH1 = \"F:/DR/CONT_SEPERATE/1/\"\n",
    "imglist = os.listdir(PATH1)\n",
    "\n",
    "for img1 in tqdm(imglist):\n",
    "    imgspl = img1.split('.')\n",
    "    image = cv2.imread(os.path.join(PATH1,img1))\n",
    "    #FLIP HORIZONALLY, VERT`ICALLY and BOTH\n",
    "    cv2.imwrite(PATH1 + imgspl[0]+'.0.jpeg',cv2.flip(image, 0))\n",
    "    cv2.imwrite(PATH1 + imgspl[0]+'.1.jpeg',cv2.flip(image, 1))\n",
    "#     cv2.imwrite(PATH1 + imgspl[0]+'.2.jpeg',cv2.flip(image, -1))\n",
    "#     #ROTATE IMAGE FOR 45 AND 90 DEG \n",
    "#     cv2.imwrite(PATH1 + imgspl[0]+'.3.jpeg',imutils.rotate(image, 45))\n",
    "#     cv2.imwrite(PATH1 + imgspl[0]+'.4.jpeg',imutils.rotate(image, 90))\n",
    "    \n",
    "print(\"HELLO\")"
   ]
  },
  {
   "cell_type": "code",
   "execution_count": 3,
   "metadata": {},
   "outputs": [],
   "source": [
    "# \"\"\"\n",
    "#     2/ contains 11301 images\n",
    "#     + x2 by flipping vertically = 22601;\n",
    "#     hence >15k work done!!\n",
    "# \"\"\"\n",
    "\n",
    "# PATH1 = \"F:/DR/CONT_SEPERATE/2/\"\n",
    "# imglist = os.listdir(PATH1)\n",
    "# countt = 0\n",
    "# for img1 in tqdm(imglist):\n",
    "#     image = cv2.imread(os.path.join(PATH1,img1))\n",
    "#     imgspl = img1.split('.')\n",
    "#     #FLIP HORIZONALLY and VERTICALLY\n",
    "#     cv2.imwrite(PATH1 + imgspl[0]+'.0.jpeg',cv2.flip(image, 0))\n",
    "#     if countt > 4000:\n",
    "#         break\n",
    "#     countt += 1\n",
    "# #     cv2.imwrite(PATH1 + imgspl[0]+'.1.jpeg',cv2.flip(image, 1))\n",
    "    \n",
    "# print(\"HELLO\")"
   ]
  },
  {
   "cell_type": "code",
   "execution_count": 4,
   "metadata": {
    "scrolled": true
   },
   "outputs": [
    {
     "name": "stderr",
     "output_type": "stream",
     "text": [
      "100%|██████████████████████████████████████████████████████████████████████████████| 1588/1588 [57:32<00:00,  1.30it/s]\n"
     ]
    },
    {
     "name": "stdout",
     "output_type": "stream",
     "text": [
      "HELLO\n"
     ]
    }
   ],
   "source": [
    "\"\"\"\n",
    "    3/ contains 1588 images\n",
    "    + x4 by flipping vertically, horizontally, diagonally(x=y) = 6352;\n",
    "    more (15000 - 6352 = 8648) needed\n",
    "    rotating the image by x6 ways will get (7,352)+(1588x7) = 15880 images\n",
    "    hence >15k work done!!\n",
    "\"\"\"\n",
    "\n",
    "\n",
    "PATH1 = \"F:/DR/CONT_SEPERATE/3/\"\n",
    "imglist = os.listdir(PATH1)\n",
    "\n",
    "for img1 in tqdm(imglist):\n",
    "    image = cv2.imread(os.path.join(PATH1,img1))\n",
    "    imgspl = img1.split('.')\n",
    "    #FLIP HORIZONALLY, VERTICALLY and BOTH\n",
    "    cv2.imwrite(PATH1 + imgspl[0]+'.0.jpeg',cv2.flip(image, 0))\n",
    "    cv2.imwrite(PATH1 + imgspl[0]+'.1.jpeg',cv2.flip(image, 1))\n",
    "    cv2.imwrite(PATH1 + imgspl[0]+'.2.jpeg',cv2.flip(image, -1))\n",
    "    #ROTATE IMAGE x12\n",
    "    i = 3\n",
    "    for angle in np.arange(52, 360, 52):\n",
    "        cv2.imwrite(PATH1 + imgspl[0]+'.'+str(i)+'.jpeg', imutils.rotate(image, angle))\n",
    "        i += 1\n",
    "print(\"HELLO\")"
   ]
  },
  {
   "cell_type": "code",
   "execution_count": 5,
   "metadata": {},
   "outputs": [
    {
     "name": "stderr",
     "output_type": "stream",
     "text": [
      "100%|██████████████████████████████████████████████████████████████████████████████| 1276/1276 [47:07<00:00,  2.52s/it]\n"
     ]
    },
    {
     "name": "stdout",
     "output_type": "stream",
     "text": [
      "HELLO\n"
     ]
    }
   ],
   "source": [
    "\"\"\"\n",
    "    4/ contains 1276 images\n",
    "    + x4 by flipping vertically, horizontally, diagonally(x=y) = 5,104;\n",
    "    more (15,000 - 5,104 = 9896) needed\n",
    "    rotating the image by x8 ways will get (5104)+(1276x8) = 15312 images\n",
    "    hence >15k work done!!\n",
    "\"\"\"\n",
    "\n",
    "\n",
    "PATH1 = \"F:/DR/CONT_SEPERATE/4/\"\n",
    "imglist = os.listdir(PATH1)\n",
    "\n",
    "for img1 in tqdm(imglist):\n",
    "    image = cv2.imread(os.path.join(PATH1,img1))\n",
    "    imgspl = img1.split('.')\n",
    "    #FLIP HORIZONALLY, VERTICALLY and BOTH\n",
    "    cv2.imwrite(PATH1 + imgspl[0]+'.0.jpeg',cv2.flip(image, 0))\n",
    "    cv2.imwrite(PATH1 + imgspl[0]+'.1.jpeg',cv2.flip(image, 1))\n",
    "    cv2.imwrite(PATH1 + imgspl[0]+'.2.jpeg',cv2.flip(image, -1))\n",
    "    #ROTATE IMAGE\n",
    "    i = 3\n",
    "    for angle in np.arange(44, 360, 44):\n",
    "        cv2.imwrite(PATH1 + imgspl[0]+'.'+str(i)+'.jpeg', imutils.rotate(image, angle))\n",
    "        i += 1\n",
    "print(\"HELLO\")"
   ]
  },
  {
   "cell_type": "code",
   "execution_count": null,
   "metadata": {},
   "outputs": [],
   "source": []
  }
 ],
 "metadata": {
  "kernelspec": {
   "display_name": "Python 3",
   "language": "python",
   "name": "python3"
  },
  "language_info": {
   "codemirror_mode": {
    "name": "ipython",
    "version": 3
   },
   "file_extension": ".py",
   "mimetype": "text/x-python",
   "name": "python",
   "nbconvert_exporter": "python",
   "pygments_lexer": "ipython3",
   "version": "3.6.3"
  }
 },
 "nbformat": 4,
 "nbformat_minor": 2
}
