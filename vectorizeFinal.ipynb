{
 "cells": [
  {
   "cell_type": "code",
   "execution_count": 1,
   "metadata": {},
   "outputs": [],
   "source": [
    "import numpy as np\n",
    "import os\n",
    "from tqdm import tqdm\n",
    "from random import shuffle\n",
    "import shutil\n",
    "import cv2\n",
    "import pandas as pd"
   ]
  },
  {
   "cell_type": "code",
   "execution_count": 2,
   "metadata": {},
   "outputs": [],
   "source": [
    "# PICKFROM = \"F:/DR/ValFinal1/Images/\"\n",
    "SAVETO = \"F:/DR/Final_NPYs_6March/\"\n",
    "# MOVETO = 'F:/DR/TrainFinal2/Images/'\n",
    "IMAGE_SIZE = 64\n",
    "\n",
    "# IMAGE_LABEL_FILE = \"F:/DR/Disease Grading/Groundtruths/traincsvGT.csv\"\n",
    "\n",
    "# df = pd.read_csv(IMAGE_LABEL_FILE)\n",
    "# df.set_index('image', inplace=True)\n",
    "\n",
    "IMAGE_LABEL_FILE = \"F:/DR/DRLabelscommon.csv\"\n",
    "\n",
    "df1 = pd.read_csv(IMAGE_LABEL_FILE)\n",
    "df1.set_index('image', inplace=True)"
   ]
  },
  {
   "cell_type": "code",
   "execution_count": 4,
   "metadata": {},
   "outputs": [],
   "source": [
    "def image_label2(img_name):\n",
    "    img_name = img_name.split('.')[0]\n",
    "    return df1.loc[img_name].values"
   ]
  },
  {
   "cell_type": "code",
   "execution_count": null,
   "metadata": {},
   "outputs": [],
   "source": [
    "def vectorize():\n",
    "    Vectorized_Data = []\n",
    "    \n",
    "#     G_path = \"F:/DR/Disease Grading/Original Images/Train_CONT/\"\n",
    "#     for img in tqdm(os.listdir(G_path)):\n",
    "#         path = os.path.join(G_path,img)\n",
    "#         label = image_label(img)\n",
    "#         image = cv2.resize(cv2.imread(path, cv2.IMREAD_COLOR), (IMAGE_SIZE, IMAGE_SIZE))\n",
    "#         image = cv2.cvtColor(image, cv2.COLOR_BGR2RGB)\n",
    "#         Vectorized_Data.append([np.array(image), label])\n",
    "        \n",
    "        \n",
    "    G_path = \"F:/DR/TestFinal/\"\n",
    "    for img in tqdm(os.listdir(G_path)):\n",
    "        path = os.path.join(G_path,img)\n",
    "        label = image_label2(img)\n",
    "        image = cv2.resize(cv2.imread(path, cv2.IMREAD_COLOR), (IMAGE_SIZE, IMAGE_SIZE))\n",
    "        image = cv2.cvtColor(image, cv2.COLOR_BGR2RGB)\n",
    "        Vectorized_Data.append([np.array(image), label]) \n",
    "        \n",
    "#     print(Vectorized_Data.shape)   \n",
    "    shuffle(Vectorized_Data)\n",
    "    shuffle(Vectorized_Data)\n",
    "    np.save(SAVETO + \"TestFinal6Mx\" + str(IMAGE_SIZE) + 'x' + str(IMAGE_SIZE) + '.npy', Vectorized_Data)\n",
    "    print(\"DONE!!!\")"
   ]
  },
  {
   "cell_type": "code",
   "execution_count": null,
   "metadata": {
    "scrolled": false
   },
   "outputs": [
    {
     "name": "stderr",
     "output_type": "stream",
     "text": [
      " 84%|██████████████████████████████████████████████████████████████████▉             | 628/750 [01:24<00:15,  7.74it/s]"
     ]
    }
   ],
   "source": [
    "vectorize()"
   ]
  },
  {
   "cell_type": "code",
   "execution_count": null,
   "metadata": {},
   "outputs": [],
   "source": [
    "# np.save(SAVETO + str(IMAGE_SIZE) + 'x' + str(IMAGE_SIZE) + '.npy', Vectorized_Data)"
   ]
  },
  {
   "cell_type": "code",
   "execution_count": null,
   "metadata": {},
   "outputs": [],
   "source": []
  }
 ],
 "metadata": {
  "kernelspec": {
   "display_name": "Python 3",
   "language": "python",
   "name": "python3"
  },
  "language_info": {
   "codemirror_mode": {
    "name": "ipython",
    "version": 3
   },
   "file_extension": ".py",
   "mimetype": "text/x-python",
   "name": "python",
   "nbconvert_exporter": "python",
   "pygments_lexer": "ipython3",
   "version": "3.6.3"
  }
 },
 "nbformat": 4,
 "nbformat_minor": 2
}
