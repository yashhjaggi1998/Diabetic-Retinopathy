{
 "cells": [
  {
   "cell_type": "code",
   "execution_count": 1,
   "metadata": {},
   "outputs": [
    {
     "name": "stderr",
     "output_type": "stream",
     "text": [
      "100%|██████████████████████████████████████████████████████████████████████████████| 1916/1916 [22:35<00:00,  1.41it/s]\n"
     ]
    },
    {
     "name": "stdout",
     "output_type": "stream",
     "text": [
      "HELLO\n"
     ]
    }
   ],
   "source": [
    "import os\n",
    "import imutils\n",
    "import cv2\n",
    "import numpy as np\n",
    "from tqdm import tqdm\n",
    "\n",
    "PATH1 = \"F:/DR/UNCONT_SEPERATE/4/\"\n",
    "\n",
    "for img1 in tqdm(os.listdir(PATH1)):\n",
    "    image = cv2.imread(os.path.join(PATH1,img1))\n",
    "    imgspl = img1.split('.')\n",
    "    i = 0\n",
    "    for angle in np.arange(90, 360, 90):\n",
    "        rotated = imutils.rotate(image, angle)\n",
    "        cv2.imwrite(PATH1 + imgspl[0]+'.'+str(i)+'.jpeg',rotated)\n",
    "        i += 1\n",
    "print(\"HELLO\")"
   ]
  },
  {
   "cell_type": "code",
   "execution_count": null,
   "metadata": {},
   "outputs": [],
   "source": []
  }
 ],
 "metadata": {
  "kernelspec": {
   "display_name": "Python 3",
   "language": "python",
   "name": "python3"
  },
  "language_info": {
   "codemirror_mode": {
    "name": "ipython",
    "version": 3
   },
   "file_extension": ".py",
   "mimetype": "text/x-python",
   "name": "python",
   "nbconvert_exporter": "python",
   "pygments_lexer": "ipython3",
   "version": "3.7.1"
  }
 },
 "nbformat": 4,
 "nbformat_minor": 2
}
