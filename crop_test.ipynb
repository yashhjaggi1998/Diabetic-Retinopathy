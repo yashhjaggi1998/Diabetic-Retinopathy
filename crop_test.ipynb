{
 "cells": [
  {
   "cell_type": "code",
   "execution_count": 1,
   "metadata": {},
   "outputs": [],
   "source": [
    "import os\n",
    "import cv2\n",
    "from tqdm import tqdm\n",
    "from random import shuffle\n",
    "import numpy as np\n",
    "from PIL import Image as img1\n",
    "from PIL import ImageEnhance as imgEn\n",
    "from PIL import ImageFile\n",
    "ImageFile.LOAD_TRUNCATED_IMAGES = True"
   ]
  },
  {
   "cell_type": "code",
   "execution_count": 2,
   "metadata": {},
   "outputs": [],
   "source": [
    "TEST_DIR = \"F:/DR/Disease Grading/Original Images/Testing Set/\"\n",
    "\n",
    "\n",
    "DATA_SAVE_DIR_TEST = \"F:/DR/Disease Grading/Original Images/Test_UNCONT/\"\n",
    "CONT_DATA_SAVE_DIR_TEST = \"F:/DR/Disease Grading/Original Images/Test_CONT/\"\n",
    "\n"
   ]
  },
  {
   "cell_type": "code",
   "execution_count": 3,
   "metadata": {},
   "outputs": [],
   "source": [
    "def contrast_crop(PATH):\n",
    "    pre_temp = (0,0,0)\n",
    "    for img in tqdm(os.listdir(PATH)):\n",
    "        orig_image_path = os.path.join(PATH,img)\n",
    "        cont_image_path = contrast_(PATH,img)\n",
    "#         print(orig_image_path)\n",
    "        imo = img1.open(str(orig_image_path))\n",
    "        contrast = imgEn.Contrast(imo)\n",
    "        imc=contrast.enhance(2)\n",
    "        \n",
    "        size_x, size_y = imc.size\n",
    "        pixel = imc.load()\n",
    "        #LEFT TRAVERSAL\n",
    "        for i in range(size_x):\n",
    "            temp = pixel[i,(size_y/2)]\n",
    "            if pre_temp != temp:\n",
    "                x_left = i\n",
    "                break\n",
    "        #RIGHT TRAVERSAL    \n",
    "        for i in range(size_x-1,0,-1):\n",
    "            temp = pixel[i,(size_y/2)]\n",
    "            if pre_temp != temp:\n",
    "                x_right = i\n",
    "                break\n",
    "        #UP TRAVERSAL\n",
    "        for i in range(size_y):\n",
    "            temp = pixel[(size_x/2),i]\n",
    "            if pre_temp != temp:\n",
    "                y_top = i\n",
    "                break\n",
    "        #DOWN TRAVERSAL    \n",
    "        for i in range(size_y-1,0,-1):\n",
    "            temp = pixel[(size_x/2),i]\n",
    "            if pre_temp != temp:\n",
    "                y_bott = i\n",
    "                break\n",
    "                \n",
    "        area = ( x_left, y_top, x_right, y_bott)\n",
    "        imo = imo.crop(area)\n",
    "        \n",
    "        imc = img1.open(str(cont_image_path))\n",
    "        imc = imc.crop(area)\n",
    "        \n",
    "        imo.save(DATA_SAVE_DIR_TEST+img, \"JPEG\", quality=80, optimize=True, progressive=True)\n",
    "        imc.save(CONT_DATA_SAVE_DIR_TEST+img, \"JPEG\", quality=80, optimize=True, progressive=True)\n",
    "        \n",
    "        "
   ]
  },
  {
   "cell_type": "code",
   "execution_count": 4,
   "metadata": {},
   "outputs": [],
   "source": [
    "def contrast_(PATH,img_name):\n",
    "    #print(PATH,img_name)\n",
    "    bgr = cv2.imread(PATH+img_name)\n",
    "    #print(bgr.shape)\n",
    "    lab = cv2.cvtColor(bgr,cv2.COLOR_BGR2LAB)\n",
    "    lab_planes = cv2.split(lab)\n",
    "    clahe = cv2.createCLAHE(clipLimit=2.0,tileGridSize=(10,10))\n",
    "    lab_planes[0] = clahe.apply(lab_planes[0])\n",
    "    lab = cv2.merge(lab_planes)\n",
    "    bgr = cv2.cvtColor(lab, cv2.COLOR_LAB2BGR)\n",
    "    cv2.imwrite(CONT_DATA_SAVE_DIR_TEST + img_name,bgr)\n",
    "    return CONT_DATA_SAVE_DIR_TEST + img_name\n",
    "    \n",
    "    "
   ]
  },
  {
   "cell_type": "code",
   "execution_count": 5,
   "metadata": {},
   "outputs": [
    {
     "name": "stderr",
     "output_type": "stream",
     "text": [
      "100%|████████████████████████████████████████████████████████████████████████████████| 103/103 [02:38<00:00,  1.51s/it]\n"
     ]
    }
   ],
   "source": [
    "contrast_crop(TEST_DIR)"
   ]
  }
 ],
 "metadata": {
  "kernelspec": {
   "display_name": "Python 3",
   "language": "python",
   "name": "python3"
  },
  "language_info": {
   "codemirror_mode": {
    "name": "ipython",
    "version": 3
   },
   "file_extension": ".py",
   "mimetype": "text/x-python",
   "name": "python",
   "nbconvert_exporter": "python",
   "pygments_lexer": "ipython3",
   "version": "3.6.3"
  }
 },
 "nbformat": 4,
 "nbformat_minor": 2
}
