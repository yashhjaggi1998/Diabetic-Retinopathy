{
 "cells": [
  {
   "cell_type": "code",
   "execution_count": 1,
   "metadata": {},
   "outputs": [],
   "source": [
    "import numpy as np\n",
    "import os\n",
    "from tqdm import tqdm\n",
    "import shutil\n",
    "import pandas as pd"
   ]
  },
  {
   "cell_type": "code",
   "execution_count": 2,
   "metadata": {},
   "outputs": [],
   "source": [
    "FROM = \"F:/DR/CONT_SEPERATE/\"\n",
    "TO = \"F:/DR/CONT_BAD/\"\n",
    "\n",
    "GOOD_BAD_LABEL_FILE = \"F:/DR/GoodBad.csv\""
   ]
  },
  {
   "cell_type": "code",
   "execution_count": 3,
   "metadata": {},
   "outputs": [],
   "source": [
    "df = pd.read_csv(GOOD_BAD_LABEL_FILE)\n",
    "df.set_index('image', inplace=True)"
   ]
  },
  {
   "cell_type": "code",
   "execution_count": 4,
   "metadata": {},
   "outputs": [],
   "source": [
    "def image_qual(img_name):\n",
    "    img_name = img_name.split('.')[0]\n",
    "    return df.loc[img_name].values"
   ]
  },
  {
   "cell_type": "code",
   "execution_count": 5,
   "metadata": {},
   "outputs": [
    {
     "name": "stdout",
     "output_type": "stream",
     "text": [
      "57658\n"
     ]
    },
    {
     "name": "stderr",
     "output_type": "stream",
     "text": [
      "100%|██████████████████████████████████████████████████████████████████████████| 57658/57658 [00:13<00:00, 4349.28it/s]\n"
     ]
    },
    {
     "name": "stdout",
     "output_type": "stream",
     "text": [
      "5606\n"
     ]
    },
    {
     "name": "stderr",
     "output_type": "stream",
     "text": [
      "100%|████████████████████████████████████████████████████████████████████████████| 5606/5606 [00:01<00:00, 3518.18it/s]\n"
     ]
    },
    {
     "name": "stdout",
     "output_type": "stream",
     "text": [
      "11940\n"
     ]
    },
    {
     "name": "stderr",
     "output_type": "stream",
     "text": [
      "100%|██████████████████████████████████████████████████████████████████████████| 11940/11940 [00:02<00:00, 4218.37it/s]\n"
     ]
    },
    {
     "name": "stdout",
     "output_type": "stream",
     "text": [
      "1916\n"
     ]
    },
    {
     "name": "stderr",
     "output_type": "stream",
     "text": [
      "100%|████████████████████████████████████████████████████████████████████████████| 1916/1916 [00:00<00:00, 4486.46it/s]\n"
     ]
    },
    {
     "name": "stdout",
     "output_type": "stream",
     "text": [
      "1726\n"
     ]
    },
    {
     "name": "stderr",
     "output_type": "stream",
     "text": [
      "100%|████████████████████████████████████████████████████████████████████████████| 1726/1726 [00:00<00:00, 3578.70it/s]\n"
     ]
    },
    {
     "name": "stdout",
     "output_type": "stream",
     "text": [
      "Done\n"
     ]
    }
   ],
   "source": [
    "listimg = np.array(os.listdir(FROM+'0/'))\n",
    "print(listimg.size)\n",
    "for img in tqdm(listimg):\n",
    "    qual = image_qual(img)\n",
    "    if qual == 1:\n",
    "        continue\n",
    "    path = os.path.join(FROM+'0/',img)\n",
    "    shutil.move(path, TO+img)\n",
    "    \n",
    "\n",
    "listimg = np.array(os.listdir(FROM+'1/'))\n",
    "print(listimg.size)\n",
    "for img in tqdm(listimg):\n",
    "    qual = image_qual(img)\n",
    "    if qual == 1:\n",
    "        continue\n",
    "    path = os.path.join(FROM+'1/',img)\n",
    "    shutil.move(path, TO+img)\n",
    "    \n",
    "    \n",
    "listimg = np.array(os.listdir(FROM+'2/'))\n",
    "print(listimg.size)\n",
    "for img in tqdm(listimg):\n",
    "    qual = image_qual(img)\n",
    "    if qual == 1:\n",
    "        continue\n",
    "    path = os.path.join(FROM+'2/',img)\n",
    "    shutil.move(path, TO+img)\n",
    "    \n",
    "    \n",
    "listimg = np.array(os.listdir(FROM+'3/'))\n",
    "print(listimg.size)\n",
    "for img in tqdm(listimg):\n",
    "    qual = image_qual(img)\n",
    "    if qual == 1:\n",
    "        continue\n",
    "    path = os.path.join(FROM+'3/',img)\n",
    "    shutil.move(path, TO+img)\n",
    "    \n",
    "    \n",
    "listimg = np.array(os.listdir(FROM+'4/'))\n",
    "print(listimg.size)\n",
    "for img in tqdm(listimg):\n",
    "    qual = image_qual(img)\n",
    "    if qual == 1:\n",
    "        continue\n",
    "    path = os.path.join(FROM+'4/',img)\n",
    "    shutil.move(path, TO+img)\n",
    "    \n",
    "    \n",
    "print(\"Done\")"
   ]
  }
 ],
 "metadata": {
  "kernelspec": {
   "display_name": "Python 3",
   "language": "python",
   "name": "python3"
  },
  "language_info": {
   "codemirror_mode": {
    "name": "ipython",
    "version": 3
   },
   "file_extension": ".py",
   "mimetype": "text/x-python",
   "name": "python",
   "nbconvert_exporter": "python",
   "pygments_lexer": "ipython3",
   "version": "3.7.1"
  }
 },
 "nbformat": 4,
 "nbformat_minor": 2
}
