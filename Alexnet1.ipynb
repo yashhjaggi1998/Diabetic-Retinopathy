{
 "cells": [
  {
   "cell_type": "code",
   "execution_count": 1,
   "metadata": {},
   "outputs": [
    {
     "name": "stderr",
     "output_type": "stream",
     "text": [
      "Using TensorFlow backend.\n"
     ]
    },
    {
     "name": "stdout",
     "output_type": "stream",
     "text": [
      "2.2.4\n"
     ]
    }
   ],
   "source": [
    "import keras\n",
    "import numpy as np\n",
    "from keras import backend as K\n",
    "from random import shuffle\n",
    "from keras.applications.vgg16 import VGG16\n",
    "from keras.models import Model, Sequential\n",
    "from keras.layers import Dense, Activation, Dropout, Flatten, Conv2D, MaxPooling2D, Input, ZeroPadding2D\n",
    "from keras.layers.normalization import BatchNormalization\n",
    "from keras.callbacks import ModelCheckpoint\n",
    "from keras.optimizers import SGD\n",
    "\n",
    "print(keras.__version__)"
   ]
  },
  {
   "cell_type": "code",
   "execution_count": 2,
   "metadata": {},
   "outputs": [],
   "source": [
    "from keras import backend as k\n",
    "import tensorflow as tf\n",
    "\n",
    "config = tf.ConfigProto()\n",
    "config.gpu_options.allow_growth = True\n",
    "\n",
    "k.tensorflow_backend.set_session(tf.Session(config=config))"
   ]
  },
  {
   "cell_type": "code",
   "execution_count": 3,
   "metadata": {},
   "outputs": [],
   "source": [
    "batch_size = 64\n",
    "IMAGE_SIZE = 64\n",
    "epochs = 100\n",
    "num_classes = 5"
   ]
  },
  {
   "cell_type": "code",
   "execution_count": 4,
   "metadata": {},
   "outputs": [],
   "source": [
    "# train = np.load(\"/home/cudacenter/DR/DenseNet_Finetune/Train64x64.npy\")\n",
    "# X_train = np.array([i[0] for i in train]).reshape(-1, IMAGE_SIZE, IMAGE_SIZE, 3)\n",
    "# Y_train = np.array([i[1] for i in train])\n",
    "\n",
    "# del train\n",
    "# print(\"Train Loaded\")"
   ]
  },
  {
   "cell_type": "code",
   "execution_count": 5,
   "metadata": {},
   "outputs": [
    {
     "name": "stdout",
     "output_type": "stream",
     "text": [
      "Test Loaded\n"
     ]
    }
   ],
   "source": [
    "# train = np.load(\"/home/cudacenter/DR/DenseNet_Finetune/Val64x64.npy\")\n",
    "train = np.load(\"F:/DR/Final_NPYs_6March/TestFinal6Mx64x64.npy\")\n",
    "\n",
    "X_test = np.array([i[0] for i in train]).reshape(-1, IMAGE_SIZE, IMAGE_SIZE, 3)\n",
    "Y_test = np.array([i[1] for i in train])\n",
    "\n",
    "del train\n",
    "print(\"Test Loaded\")"
   ]
  },
  {
   "cell_type": "code",
   "execution_count": 6,
   "metadata": {},
   "outputs": [],
   "source": [
    "# unique_elements, counts_elements = np.unique(Y_train, return_counts=True)\n",
    "# print(\"Frequency of unique values of the said array:\")\n",
    "# print(np.asarray((unique_elements, counts_elements)))"
   ]
  },
  {
   "cell_type": "code",
   "execution_count": 7,
   "metadata": {},
   "outputs": [
    {
     "name": "stdout",
     "output_type": "stream",
     "text": [
      "Frequency of unique values of the said array:\n",
      "[[  0   1   2   3   4]\n",
      " [150 150 150 150 150]]\n"
     ]
    }
   ],
   "source": [
    "unique_elements, counts_elements = np.unique(Y_test, return_counts=True)\n",
    "print(\"Frequency of unique values of the said array:\")\n",
    "print(np.asarray((unique_elements, counts_elements)))"
   ]
  },
  {
   "cell_type": "code",
   "execution_count": 8,
   "metadata": {},
   "outputs": [],
   "source": [
    "# X_train = X_train.astype(\"float32\")\n",
    "X_test = X_test.astype(\"float32\")\n",
    "\n",
    "# X_train /= 255\n",
    "X_test /= 255\n",
    "\n",
    "# Y_train = keras.utils.to_categorical(Y_train,num_classes)\n",
    "Y_test = keras.utils.to_categorical(Y_test,num_classes)"
   ]
  },
  {
   "cell_type": "code",
   "execution_count": 9,
   "metadata": {},
   "outputs": [],
   "source": [
    "model = Sequential()\n",
    "model.add(Conv2D(96, 3, strides=1, input_shape=(64,64,3)))\n",
    "model.add(Activation('relu'))\n",
    "model.add(MaxPooling2D(pool_size=3, strides=2))\n",
    "# model.add(Dropout(0.3))\n",
    "\n",
    "model.add(Conv2D(256, 5, strides=1))\n",
    "model.add(ZeroPadding2D(2))\n",
    "model.add(Activation('relu'))\n",
    "model.add(MaxPooling2D(pool_size=3, strides=2))\n",
    "# model.add(Dropout(0.3))\n",
    "\n",
    "model.add(Conv2D(384, 3, strides=1))\n",
    "model.add(ZeroPadding2D(1))\n",
    "model.add(Activation('relu'))\n",
    "# model.add(Dropout(0.3))\n",
    "\n",
    "model.add(Conv2D(384, 3, strides=1))\n",
    "model.add(ZeroPadding2D(1))\n",
    "model.add(Activation('relu'))\n",
    "# model.add(Dropout(0.3))\n",
    "\n",
    "\n",
    "model.add(Conv2D(256, 3, strides=1))\n",
    "model.add(ZeroPadding2D(1))\n",
    "model.add(Activation('relu'))\n",
    "model.add(MaxPooling2D(pool_size=3, strides=2))\n",
    "# model.add(Dropout(0.3))\n",
    "\n",
    "\n",
    "model.add(Flatten())\n",
    "\n",
    "model.add(Dense(4096))\n",
    "model.add(Activation('relu'))\n",
    "# model.add(Dropout(0.3))\n",
    "\n",
    "model.add(Dense(4096))\n",
    "model.add(Activation('relu'))\n",
    "# model.add(Dropout(0.3))\n",
    "\n",
    "model.add(Dense(num_classes))\n",
    "model.add(Activation('softmax'))"
   ]
  },
  {
   "cell_type": "code",
   "execution_count": 10,
   "metadata": {
    "scrolled": true
   },
   "outputs": [
    {
     "name": "stdout",
     "output_type": "stream",
     "text": [
      "_________________________________________________________________\n",
      "Layer (type)                 Output Shape              Param #   \n",
      "=================================================================\n",
      "conv2d_1 (Conv2D)            (None, 62, 62, 96)        2688      \n",
      "_________________________________________________________________\n",
      "activation_1 (Activation)    (None, 62, 62, 96)        0         \n",
      "_________________________________________________________________\n",
      "max_pooling2d_1 (MaxPooling2 (None, 30, 30, 96)        0         \n",
      "_________________________________________________________________\n",
      "conv2d_2 (Conv2D)            (None, 26, 26, 256)       614656    \n",
      "_________________________________________________________________\n",
      "zero_padding2d_1 (ZeroPaddin (None, 30, 30, 256)       0         \n",
      "_________________________________________________________________\n",
      "activation_2 (Activation)    (None, 30, 30, 256)       0         \n",
      "_________________________________________________________________\n",
      "max_pooling2d_2 (MaxPooling2 (None, 14, 14, 256)       0         \n",
      "_________________________________________________________________\n",
      "conv2d_3 (Conv2D)            (None, 12, 12, 384)       885120    \n",
      "_________________________________________________________________\n",
      "zero_padding2d_2 (ZeroPaddin (None, 14, 14, 384)       0         \n",
      "_________________________________________________________________\n",
      "activation_3 (Activation)    (None, 14, 14, 384)       0         \n",
      "_________________________________________________________________\n",
      "conv2d_4 (Conv2D)            (None, 12, 12, 384)       1327488   \n",
      "_________________________________________________________________\n",
      "zero_padding2d_3 (ZeroPaddin (None, 14, 14, 384)       0         \n",
      "_________________________________________________________________\n",
      "activation_4 (Activation)    (None, 14, 14, 384)       0         \n",
      "_________________________________________________________________\n",
      "conv2d_5 (Conv2D)            (None, 12, 12, 256)       884992    \n",
      "_________________________________________________________________\n",
      "zero_padding2d_4 (ZeroPaddin (None, 14, 14, 256)       0         \n",
      "_________________________________________________________________\n",
      "activation_5 (Activation)    (None, 14, 14, 256)       0         \n",
      "_________________________________________________________________\n",
      "max_pooling2d_3 (MaxPooling2 (None, 6, 6, 256)         0         \n",
      "_________________________________________________________________\n",
      "flatten_1 (Flatten)          (None, 9216)              0         \n",
      "_________________________________________________________________\n",
      "dense_1 (Dense)              (None, 4096)              37752832  \n",
      "_________________________________________________________________\n",
      "activation_6 (Activation)    (None, 4096)              0         \n",
      "_________________________________________________________________\n",
      "dense_2 (Dense)              (None, 4096)              16781312  \n",
      "_________________________________________________________________\n",
      "activation_7 (Activation)    (None, 4096)              0         \n",
      "_________________________________________________________________\n",
      "dense_3 (Dense)              (None, 5)                 20485     \n",
      "_________________________________________________________________\n",
      "activation_8 (Activation)    (None, 5)                 0         \n",
      "=================================================================\n",
      "Total params: 58,269,573\n",
      "Trainable params: 58,269,573\n",
      "Non-trainable params: 0\n",
      "_________________________________________________________________\n"
     ]
    }
   ],
   "source": [
    "model.summary()\n",
    "#64x64"
   ]
  },
  {
   "cell_type": "code",
   "execution_count": 11,
   "metadata": {},
   "outputs": [],
   "source": [
    "# model.summary()\n",
    "# #224x224"
   ]
  },
  {
   "cell_type": "code",
   "execution_count": 12,
   "metadata": {},
   "outputs": [],
   "source": [
    "model.load_weights(\"load7.h5\")"
   ]
  },
  {
   "cell_type": "code",
   "execution_count": 13,
   "metadata": {},
   "outputs": [],
   "source": [
    "## CREATE DIRECTORY FIRST /home/cudacenter/DR/FINAL_05Feb/Pretrained/DenseNet_Weights_t1\n",
    "sgd = SGD(lr=1e-3, decay=1e-6, momentum = 0.9, nesterov=True)\n",
    "# checkpoint = ModelCheckpoint('/home/cudacenter/DR/AlexNet/alex64-{epoch:03d}-.h5',verbose = 1,monitor = 'acc',save_best_only = True,mode = \"auto\")\n",
    "model.compile(loss=keras.losses.categorical_crossentropy, optimizer=sgd, metrics=['accuracy'])"
   ]
  },
  {
   "cell_type": "code",
   "execution_count": 14,
   "metadata": {
    "scrolled": true
   },
   "outputs": [],
   "source": [
    "# model.fit(X_train, Y_train,batch_size=batch_size,epochs=epochs,verbose=1,validation_data=(X_test, Y_test), callbacks=[checkpoint])"
   ]
  },
  {
   "cell_type": "code",
   "execution_count": 15,
   "metadata": {},
   "outputs": [
    {
     "name": "stdout",
     "output_type": "stream",
     "text": [
      "750/750 [==============================] - 13s 17ms/step\n",
      "Test Loss :  1.4505118192632993\n",
      "Test Accuracy :  0.7453333328564962\n",
      "750/750 [==============================] - 3s 5ms/step\n"
     ]
    }
   ],
   "source": [
    "# model.load_weights(\"/home/cudacenter/DR/DenseNet_Finetune/64x64x2/DN121x64-022-.h5\")\n",
    "score = model.evaluate(X_test,Y_test,verbose=1)\n",
    "print(\"Test Loss : \",score[0])\n",
    "print(\"Test Accuracy : \",score[1])\n",
    "Y_pred = model.predict(X_test,verbose = 1)"
   ]
  },
  {
   "cell_type": "code",
   "execution_count": 16,
   "metadata": {},
   "outputs": [],
   "source": [
    "# model.save_weights('/home/cudacenter/DR/AlexNet/DR_weights_{}_AlexF64.h5'.format(score[1]))"
   ]
  },
  {
   "cell_type": "code",
   "execution_count": 17,
   "metadata": {},
   "outputs": [
    {
     "name": "stdout",
     "output_type": "stream",
     "text": [
      "[[140   1   9   0   0]\n",
      " [ 46  97   7   0   0]\n",
      " [ 40   2 104   3   1]\n",
      " [ 19   1  23 103   4]\n",
      " [ 20   1  12   2 115]]\n"
     ]
    }
   ],
   "source": [
    "# print(Y_pred)\n",
    "from sklearn.metrics import confusion_matrix\n",
    "\n",
    "conf_mat = confusion_matrix(Y_test.argmax(axis = 1), Y_pred.argmax(axis = 1))\n",
    "print(conf_mat)"
   ]
  },
  {
   "cell_type": "code",
   "execution_count": 18,
   "metadata": {},
   "outputs": [
    {
     "name": "stdout",
     "output_type": "stream",
     "text": [
      "0.023333333333333334\n",
      "0.016166666666666666\n",
      "0.017333333333333333\n",
      "0.017166666666666667\n",
      "0.019166666666666665\n"
     ]
    }
   ],
   "source": [
    "sens = (float)(conf_mat[0,0]) / (float)(6000) \n",
    "print(sens)\n",
    "sens = (float)(conf_mat[1,1]) / (float)(6000) \n",
    "print(sens)\n",
    "sens = (float)(conf_mat[2,2]) / (float)(6000) \n",
    "print(sens)\n",
    "sens = (float)(conf_mat[3,3]) / (float)(6000) \n",
    "print(sens)\n",
    "sens = (float)(conf_mat[4,4]) / (float)(6000) \n",
    "print(sens)"
   ]
  },
  {
   "cell_type": "code",
   "execution_count": null,
   "metadata": {},
   "outputs": [],
   "source": []
  }
 ],
 "metadata": {
  "kernelspec": {
   "display_name": "Python 3",
   "language": "python",
   "name": "python3"
  },
  "language_info": {
   "codemirror_mode": {
    "name": "ipython",
    "version": 3
   },
   "file_extension": ".py",
   "mimetype": "text/x-python",
   "name": "python",
   "nbconvert_exporter": "python",
   "pygments_lexer": "ipython3",
   "version": "3.6.3"
  }
 },
 "nbformat": 4,
 "nbformat_minor": 2
}
